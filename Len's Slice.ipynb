{
 "cells": [
  {
   "cell_type": "code",
   "execution_count": null,
   "metadata": {},
   "outputs": [],
   "source": [
    "# Your code below:\n",
    "toppings = [\"pepperoni\", \"pineapple\", \"cheese\", \"sausage\", \"olives\", \"anchovies\", \"mushrooms\"]\n",
    "prices = [2, 6, 1, 3, 2, 7, 2]\n",
    "num_two_dollar_slices = prices.count(2)\n",
    "print(num_two_dollar_slices)\n",
    "num_pizzas = len(toppings)\n",
    "print(\"We sell\", num_pizzas, \"different kinds of pizza!\")\n",
    "pizza_and_prices = [[2, \"pepperoni\"], [6, \"pineapple\"], [1, \"cheese\"], [3, \"sausage\"], [2, \"olives\"], [7, \"anchovies\"], [2, \"mushrooms\"]]\n",
    "print(pizza_and_prices)\n",
    "pizza_and_prices = sorted(pizza_and_prices)\n",
    "print(pizza_and_prices)\n",
    "cheapest_pizza = pizza_and_prices[0]\n",
    "print(cheapest_pizza)\n",
    "priciest_pizza = pizza_and_prices[-1]\n",
    "print(priciest_pizza)\n",
    "removed = pizza_and_prices.pop(-1)\n",
    "print(removed)\n",
    "print(pizza_and_prices)\n",
    "pizza_and_prices.insert(4, [2.5, \"peppers\"])\n",
    "print(pizza_and_prices)\n",
    "three_cheapest = pizza_and_prices[0:3]\n",
    "print(three_cheapest)"
   ]
  }
 ],
 "metadata": {
  "kernelspec": {
   "display_name": "Python 3",
   "language": "python",
   "name": "python3"
  },
  "language_info": {
   "codemirror_mode": {
    "name": "ipython",
    "version": 3
   },
   "file_extension": ".py",
   "mimetype": "text/x-python",
   "name": "python",
   "nbconvert_exporter": "python",
   "pygments_lexer": "ipython3",
   "version": "3.7.3"
  }
 },
 "nbformat": 4,
 "nbformat_minor": 2
}
